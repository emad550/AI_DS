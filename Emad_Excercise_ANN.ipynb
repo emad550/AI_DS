{
  "nbformat": 4,
  "nbformat_minor": 0,
  "metadata": {
    "colab": {
      "name": "Emad_Excercise_ANN.ipynb",
      "provenance": [],
      "collapsed_sections": [],
      "authorship_tag": "ABX9TyO6udxFvRpjOJrKwtS5/8X2",
      "include_colab_link": true
    },
    "kernelspec": {
      "name": "python3",
      "display_name": "Python 3"
    }
  },
  "cells": [
    {
      "cell_type": "markdown",
      "metadata": {
        "id": "view-in-github",
        "colab_type": "text"
      },
      "source": [
        "<a href=\"https://colab.research.google.com/github/emad550/AI_DS/blob/main/Emad_Excercise_ANN.ipynb\" target=\"_parent\"><img src=\"https://colab.research.google.com/assets/colab-badge.svg\" alt=\"Open In Colab\"/></a>"
      ]
    },
    {
      "cell_type": "code",
      "metadata": {
        "id": "KCezVrHvEd8U"
      },
      "source": [
        "#import liberaries \r\n",
        "import numpy as np \r\n",
        "import pandas as pd\r\n",
        "import matplotlib.pyplot as plt\r\n",
        "import seaborn as sns\r\n",
        "from sklearn.model_selection import train_test_split\r\n",
        "from sklearn.preprocessing import StandardScaler\r\n",
        "from sklearn.metrics import r2_score\r\n",
        "\r\n",
        "from tensorflow.keras.models import Sequential\r\n",
        "from tensorflow.keras.layers import Dense, Dropout,Flatten\r\n",
        "from tensorflow.keras.optimizers import Adam\r\n",
        "from tensorflow.keras.callbacks import EarlyStopping, ReduceLROnPlateau, ModelCheckpoint\r\n",
        "from tensorflow.keras.utils import to_categorical\r\n",
        "from tensorflow.keras import datasets\r\n",
        "\r\n",
        "%matplotlib inline\r\n",
        "sns.set(rc={'figure.figsize': [9, 9]}, font_scale=1.2)"
      ],
      "execution_count": 45,
      "outputs": []
    },
    {
      "cell_type": "code",
      "metadata": {
        "id": "y2cN9ua0O0H2"
      },
      "source": [
        "# load the dataset here\r\n",
        "(Xtrain, Ytrain), (Xtest, Ytest) = datasets.cifar10.load_data()"
      ],
      "execution_count": 46,
      "outputs": []
    },
    {
      "cell_type": "code",
      "metadata": {
        "colab": {
          "base_uri": "https://localhost:8080/",
          "height": 631
        },
        "id": "bn5MZcP4PLAX",
        "outputId": "b0d14f85-f5ba-4460-ef4a-641b07b93ca2"
      },
      "source": [
        "# index a random batch of the images, targets array and plot it\r\n",
        "i = np.random.randint(0, 1000)\r\n",
        "\r\n",
        "plt.imshow(Xtrain[i], \"gray\")   \r\n",
        "# plt.grid(True)\r\n",
        "plt.title(Ytrain[i])"
      ],
      "execution_count": 47,
      "outputs": [
        {
          "output_type": "stream",
          "text": [
            "/usr/local/lib/python3.6/dist-packages/matplotlib/text.py:1165: FutureWarning: elementwise comparison failed; returning scalar instead, but in the future will perform elementwise comparison\n",
            "  if s != self._text:\n"
          ],
          "name": "stderr"
        },
        {
          "output_type": "execute_result",
          "data": {
            "text/plain": [
              "Text(0.5, 1.0, '[1]')"
            ]
          },
          "metadata": {
            "tags": []
          },
          "execution_count": 47
        },
        {
          "output_type": "display_data",
          "data": {
            "image/png": "[encoded data removed]",
            "text/plain": [
              "<Figure size 648x648 with 1 Axes>"
            ]
          },
          "metadata": {
            "tags": []
          }
        }
      ]
    },
    {
      "cell_type": "code",
      "metadata": {
        "colab": {
          "base_uri": "https://localhost:8080/"
        },
        "id": "gRJbxOqyPYNP",
        "outputId": "9455b56f-4d2a-42d9-9fae-df5b33c6c765"
      },
      "source": [
        "N_train_imgs = Xtrain.shape[0]\r\n",
        "N_test_imgs = Xtest.shape[0]\r\n",
        "\r\n",
        "\r\n",
        "Xtrain = Xtrain.reshape(N_train_imgs, -1)\r\n",
        "Xtrain = Xtrain / 255. \r\n",
        "Ytrain = to_categorical(Ytrain)\r\n",
        "\r\n",
        "Xtest = Xtest.reshape(N_test_imgs, -1)\r\n",
        "Xtest = Xtest / 255. \r\n",
        "Ytest = to_categorical(Ytest)\r\n",
        "\r\n",
        "\r\n",
        "print(\"Xtrain shape: \", Xtrain.shape, \"ytrain shape: \", Ytrain.shape)\r\n",
        "print(\"Xtest shape: \", Xtest.shape, \"Ytest shape: \", Ytest.shape)\r\n"
      ],
      "execution_count": 48,
      "outputs": [
        {
          "output_type": "stream",
          "text": [
            "Xtrain shape:  (50000, 3072) ytrain shape:  (50000, 10)\n",
            "Xtest shape:  (10000, 3072) Ytest shape:  (10000, 10)\n"
          ],
          "name": "stdout"
        }
      ]
    },
    {
      "cell_type": "code",
      "metadata": {
        "id": "s5PEeiF1Pofk"
      },
      "source": [
        "model = Sequential([\r\n",
        "    Dense(units=32, activation='relu', input_shape=[3072]),\r\n",
        "    #Dropout(0.2),\r\n",
        "    Dense(units=64, activation='relu'),\r\n",
        "    #Dropout(0.2),\r\n",
        "    #Dense(units=128, activation='relu'),\r\n",
        "    #Flatten(),\r\n",
        "\r\n",
        "    Dense(units=10, activation=\"softmax\")\r\n",
        "])\r\n",
        "\r\n",
        "\r\n",
        "\r\n",
        "\r\n"
      ],
      "execution_count": 49,
      "outputs": []
    },
    {
      "cell_type": "code",
      "metadata": {
        "colab": {
          "base_uri": "https://localhost:8080/"
        },
        "id": "w4bHh_ZKq0sI",
        "outputId": "f1f8f97a-af9d-415b-940e-aae5e0b1fdc5"
      },
      "source": [
        "model.summary()"
      ],
      "execution_count": 50,
      "outputs": [
        {
          "output_type": "stream",
          "text": [
            "Model: \"sequential_7\"\n",
            "_________________________________________________________________\n",
            "Layer (type)                 Output Shape              Param #   \n",
            "=================================================================\n",
            "dense_28 (Dense)             (None, 32)                98336     \n",
            "_________________________________________________________________\n",
            "dense_29 (Dense)             (None, 64)                2112      \n",
            "_________________________________________________________________\n",
            "dense_30 (Dense)             (None, 10)                650       \n",
            "=================================================================\n",
            "Total params: 101,098\n",
            "Trainable params: 101,098\n",
            "Non-trainable params: 0\n",
            "_________________________________________________________________\n"
          ],
          "name": "stdout"
        }
      ]
    },
    {
      "cell_type": "code",
      "metadata": {
        "id": "yAeviGQ4rZRj"
      },
      "source": [
        "# configure the loss and optimizer and the metrics for the training\r\n",
        "lrd = ReduceLROnPlateau(monitor = 'val_loss',\r\n",
        "                         patience = 10,\r\n",
        "                         verbose = 1,\r\n",
        "                         factor = 0.85,\r\n",
        "                         min_lr = 1e-6)\r\n",
        "\r\n",
        "mcp = ModelCheckpoint(\"./model\", verbose=1, save_best_only=True)\r\n",
        "\r\n",
        "es = EarlyStopping(verbose=1, patience=10)\r\n",
        "\r\n",
        "\r\n",
        "model.compile(loss='categorical_crossentropy', optimizer=Adam(learning_rate=0.001),metrics=[\"acc\"] )"
      ],
      "execution_count": 51,
      "outputs": []
    },
    {
      "cell_type": "code",
      "metadata": {
        "colab": {
          "base_uri": "https://localhost:8080/"
        },
        "id": "hWuObqHnrxWX",
        "outputId": "ad0438c6-8b54-49a4-994d-276bedbc0d01"
      },
      "source": [
        "# feed the data and train the network\r\n",
        "history = model.fit(Xtrain, Ytrain, validation_split=0.25, batch_size=32, epochs=50,callbacks=[lrd, mcp, es])"
      ],
      "execution_count": 52,
      "outputs": [
        {
          "output_type": "stream",
          "text": [
            "Epoch 1/50\n",
            "1172/1172 [==============================] - 4s 3ms/step - loss: 2.0449 - acc: 0.2305 - val_loss: 1.8607 - val_acc: 0.3174\n",
            "\n",
            "Epoch 00001: val_loss improved from inf to 1.86068, saving model to ./model\n",
            "INFO:tensorflow:Assets written to: ./model/assets\n",
            "Epoch 2/50\n",
            "1172/1172 [==============================] - 4s 3ms/step - loss: 1.8556 - acc: 0.3153 - val_loss: 1.8414 - val_acc: 0.3274\n",
            "\n",
            "Epoch 00002: val_loss improved from 1.86068 to 1.84136, saving model to ./model\n",
            "INFO:tensorflow:Assets written to: ./model/assets\n",
            "Epoch 3/50\n",
            "1172/1172 [==============================] - 4s 4ms/step - loss: 1.8351 - acc: 0.3280 - val_loss: 1.8431 - val_acc: 0.3279\n",
            "\n",
            "Epoch 00003: val_loss did not improve from 1.84136\n",
            "Epoch 4/50\n",
            "1172/1172 [==============================] - 3s 3ms/step - loss: 1.8154 - acc: 0.3389 - val_loss: 1.8278 - val_acc: 0.3323\n",
            "\n",
            "Epoch 00004: val_loss improved from 1.84136 to 1.82785, saving model to ./model\n",
            "INFO:tensorflow:Assets written to: ./model/assets\n",
            "Epoch 5/50\n",
            "1172/1172 [==============================] - 3s 3ms/step - loss: 1.8171 - acc: 0.3391 - val_loss: 1.8116 - val_acc: 0.3399\n",
            "\n",
            "Epoch 00005: val_loss improved from 1.82785 to 1.81161, saving model to ./model\n",
            "INFO:tensorflow:Assets written to: ./model/assets\n",
            "Epoch 6/50\n",
            "1172/1172 [==============================] - 3s 3ms/step - loss: 1.7903 - acc: 0.3480 - val_loss: 1.7933 - val_acc: 0.3479\n",
            "\n",
            "Epoch 00006: val_loss improved from 1.81161 to 1.79331, saving model to ./model\n",
            "INFO:tensorflow:Assets written to: ./model/assets\n",
            "Epoch 7/50\n",
            "1172/1172 [==============================] - 3s 3ms/step - loss: 1.7832 - acc: 0.3469 - val_loss: 1.8145 - val_acc: 0.3438\n",
            "\n",
            "Epoch 00007: val_loss did not improve from 1.79331\n",
            "Epoch 8/50\n",
            "1172/1172 [==============================] - 4s 3ms/step - loss: 1.7739 - acc: 0.3540 - val_loss: 1.7939 - val_acc: 0.3521\n",
            "\n",
            "Epoch 00008: val_loss did not improve from 1.79331\n",
            "Epoch 9/50\n",
            "1172/1172 [==============================] - 3s 3ms/step - loss: 1.7531 - acc: 0.3646 - val_loss: 1.7828 - val_acc: 0.3590\n",
            "\n",
            "Epoch 00009: val_loss improved from 1.79331 to 1.78278, saving model to ./model\n",
            "INFO:tensorflow:Assets written to: ./model/assets\n",
            "Epoch 10/50\n",
            "1172/1172 [==============================] - 3s 3ms/step - loss: 1.7467 - acc: 0.3662 - val_loss: 1.7768 - val_acc: 0.3537\n",
            "\n",
            "Epoch 00010: val_loss improved from 1.78278 to 1.77678, saving model to ./model\n",
            "INFO:tensorflow:Assets written to: ./model/assets\n",
            "Epoch 11/50\n",
            "1172/1172 [==============================] - 4s 3ms/step - loss: 1.7382 - acc: 0.3678 - val_loss: 1.7636 - val_acc: 0.3670\n",
            "\n",
            "Epoch 00011: val_loss improved from 1.77678 to 1.76365, saving model to ./model\n",
            "INFO:tensorflow:Assets written to: ./model/assets\n",
            "Epoch 12/50\n",
            "1172/1172 [==============================] - 4s 3ms/step - loss: 1.7279 - acc: 0.3775 - val_loss: 1.8072 - val_acc: 0.3493\n",
            "\n",
            "Epoch 00012: val_loss did not improve from 1.76365\n",
            "Epoch 13/50\n",
            "1172/1172 [==============================] - 3s 3ms/step - loss: 1.7342 - acc: 0.3727 - val_loss: 1.7514 - val_acc: 0.3654\n",
            "\n",
            "Epoch 00013: val_loss improved from 1.76365 to 1.75144, saving model to ./model\n",
            "INFO:tensorflow:Assets written to: ./model/assets\n",
            "Epoch 14/50\n",
            "1172/1172 [==============================] - 4s 3ms/step - loss: 1.7230 - acc: 0.3765 - val_loss: 1.7400 - val_acc: 0.3675\n",
            "\n",
            "Epoch 00014: val_loss improved from 1.75144 to 1.74003, saving model to ./model\n",
            "INFO:tensorflow:Assets written to: ./model/assets\n",
            "Epoch 15/50\n",
            "1172/1172 [==============================] - 4s 3ms/step - loss: 1.7118 - acc: 0.3798 - val_loss: 1.7549 - val_acc: 0.3633\n",
            "\n",
            "Epoch 00015: val_loss did not improve from 1.74003\n",
            "Epoch 16/50\n",
            "1172/1172 [==============================] - 4s 3ms/step - loss: 1.7051 - acc: 0.3835 - val_loss: 1.7553 - val_acc: 0.3613\n",
            "\n",
            "Epoch 00016: val_loss did not improve from 1.74003\n",
            "Epoch 17/50\n",
            "1172/1172 [==============================] - 3s 3ms/step - loss: 1.7001 - acc: 0.3863 - val_loss: 1.7348 - val_acc: 0.3741\n",
            "\n",
            "Epoch 00017: val_loss improved from 1.74003 to 1.73481, saving model to ./model\n",
            "INFO:tensorflow:Assets written to: ./model/assets\n",
            "Epoch 18/50\n",
            "1172/1172 [==============================] - 4s 3ms/step - loss: 1.6907 - acc: 0.3887 - val_loss: 1.7389 - val_acc: 0.3689\n",
            "\n",
            "Epoch 00018: val_loss did not improve from 1.73481\n",
            "Epoch 19/50\n",
            "1172/1172 [==============================] - 4s 3ms/step - loss: 1.6892 - acc: 0.3961 - val_loss: 1.7150 - val_acc: 0.3813\n",
            "\n",
            "Epoch 00019: val_loss improved from 1.73481 to 1.71499, saving model to ./model\n",
            "INFO:tensorflow:Assets written to: ./model/assets\n",
            "Epoch 20/50\n",
            "1172/1172 [==============================] - 4s 3ms/step - loss: 1.6809 - acc: 0.3929 - val_loss: 1.7254 - val_acc: 0.3768\n",
            "\n",
            "Epoch 00020: val_loss did not improve from 1.71499\n",
            "Epoch 21/50\n",
            "1172/1172 [==============================] - 4s 3ms/step - loss: 1.6763 - acc: 0.3901 - val_loss: 1.7367 - val_acc: 0.3642\n",
            "\n",
            "Epoch 00021: val_loss did not improve from 1.71499\n",
            "Epoch 22/50\n",
            "1172/1172 [==============================] - 4s 3ms/step - loss: 1.6829 - acc: 0.3947 - val_loss: 1.7285 - val_acc: 0.3707\n",
            "\n",
            "Epoch 00022: val_loss did not improve from 1.71499\n",
            "Epoch 23/50\n",
            "1172/1172 [==============================] - 3s 3ms/step - loss: 1.6750 - acc: 0.3934 - val_loss: 1.7625 - val_acc: 0.3605\n",
            "\n",
            "Epoch 00023: val_loss did not improve from 1.71499\n",
            "Epoch 24/50\n",
            "1172/1172 [==============================] - 4s 3ms/step - loss: 1.6695 - acc: 0.3935 - val_loss: 1.7150 - val_acc: 0.3779\n",
            "\n",
            "Epoch 00024: val_loss improved from 1.71499 to 1.71497, saving model to ./model\n",
            "INFO:tensorflow:Assets written to: ./model/assets\n",
            "Epoch 25/50\n",
            "1172/1172 [==============================] - 4s 3ms/step - loss: 1.6668 - acc: 0.3951 - val_loss: 1.7157 - val_acc: 0.3763\n",
            "\n",
            "Epoch 00025: val_loss did not improve from 1.71497\n",
            "Epoch 26/50\n",
            "1172/1172 [==============================] - 3s 3ms/step - loss: 1.6629 - acc: 0.3957 - val_loss: 1.7165 - val_acc: 0.3757\n",
            "\n",
            "Epoch 00026: val_loss did not improve from 1.71497\n",
            "Epoch 27/50\n",
            "1172/1172 [==============================] - 4s 3ms/step - loss: 1.6600 - acc: 0.3989 - val_loss: 1.7305 - val_acc: 0.3731\n",
            "\n",
            "Epoch 00027: val_loss did not improve from 1.71497\n",
            "Epoch 28/50\n",
            "1172/1172 [==============================] - 4s 3ms/step - loss: 1.6653 - acc: 0.3965 - val_loss: 1.7426 - val_acc: 0.3660\n",
            "\n",
            "Epoch 00028: val_loss did not improve from 1.71497\n",
            "Epoch 29/50\n",
            "1172/1172 [==============================] - 4s 3ms/step - loss: 1.6694 - acc: 0.3933 - val_loss: 1.7420 - val_acc: 0.3742\n",
            "\n",
            "Epoch 00029: ReduceLROnPlateau reducing learning rate to 0.0008500000403728336.\n",
            "\n",
            "Epoch 00029: val_loss did not improve from 1.71497\n",
            "Epoch 30/50\n",
            "1172/1172 [==============================] - 4s 3ms/step - loss: 1.6543 - acc: 0.4003 - val_loss: 1.7072 - val_acc: 0.3778\n",
            "\n",
            "Epoch 00030: val_loss improved from 1.71497 to 1.70719, saving model to ./model\n",
            "INFO:tensorflow:Assets written to: ./model/assets\n",
            "Epoch 31/50\n",
            "1172/1172 [==============================] - 4s 4ms/step - loss: 1.6427 - acc: 0.4087 - val_loss: 1.7100 - val_acc: 0.3806\n",
            "\n",
            "Epoch 00031: val_loss did not improve from 1.70719\n",
            "Epoch 32/50\n",
            "1172/1172 [==============================] - 4s 4ms/step - loss: 1.6502 - acc: 0.4016 - val_loss: 1.7061 - val_acc: 0.3788\n",
            "\n",
            "Epoch 00032: val_loss improved from 1.70719 to 1.70612, saving model to ./model\n",
            "INFO:tensorflow:Assets written to: ./model/assets\n",
            "Epoch 33/50\n",
            "1172/1172 [==============================] - 4s 3ms/step - loss: 1.6452 - acc: 0.4023 - val_loss: 1.7320 - val_acc: 0.3760\n",
            "\n",
            "Epoch 00033: val_loss did not improve from 1.70612\n",
            "Epoch 34/50\n",
            "1172/1172 [==============================] - 4s 3ms/step - loss: 1.6509 - acc: 0.4009 - val_loss: 1.7399 - val_acc: 0.3753\n",
            "\n",
            "Epoch 00034: val_loss did not improve from 1.70612\n",
            "Epoch 35/50\n",
            "1172/1172 [==============================] - 4s 3ms/step - loss: 1.6446 - acc: 0.4018 - val_loss: 1.7131 - val_acc: 0.3779\n",
            "\n",
            "Epoch 00035: val_loss did not improve from 1.70612\n",
            "Epoch 36/50\n",
            "1172/1172 [==============================] - 4s 3ms/step - loss: 1.6395 - acc: 0.4043 - val_loss: 1.7093 - val_acc: 0.3786\n",
            "\n",
            "Epoch 00036: val_loss did not improve from 1.70612\n",
            "Epoch 37/50\n",
            "1172/1172 [==============================] - 4s 3ms/step - loss: 1.6503 - acc: 0.4010 - val_loss: 1.7210 - val_acc: 0.3730\n",
            "\n",
            "Epoch 00037: val_loss did not improve from 1.70612\n",
            "Epoch 38/50\n",
            "1172/1172 [==============================] - 4s 3ms/step - loss: 1.6341 - acc: 0.4094 - val_loss: 1.7048 - val_acc: 0.3818\n",
            "\n",
            "Epoch 00038: val_loss improved from 1.70612 to 1.70479, saving model to ./model\n",
            "INFO:tensorflow:Assets written to: ./model/assets\n",
            "Epoch 39/50\n",
            "1172/1172 [==============================] - 4s 3ms/step - loss: 1.6492 - acc: 0.4017 - val_loss: 1.7006 - val_acc: 0.3802\n",
            "\n",
            "Epoch 00039: val_loss improved from 1.70479 to 1.70057, saving model to ./model\n",
            "INFO:tensorflow:Assets written to: ./model/assets\n",
            "Epoch 40/50\n",
            "1172/1172 [==============================] - 4s 3ms/step - loss: 1.6355 - acc: 0.4068 - val_loss: 1.7280 - val_acc: 0.3704\n",
            "\n",
            "Epoch 00040: val_loss did not improve from 1.70057\n",
            "Epoch 41/50\n",
            "1172/1172 [==============================] - 4s 3ms/step - loss: 1.6312 - acc: 0.4104 - val_loss: 1.7111 - val_acc: 0.3802\n",
            "\n",
            "Epoch 00041: val_loss did not improve from 1.70057\n",
            "Epoch 42/50\n",
            "1172/1172 [==============================] - 4s 3ms/step - loss: 1.6320 - acc: 0.4094 - val_loss: 1.7297 - val_acc: 0.3718\n",
            "\n",
            "Epoch 00042: val_loss did not improve from 1.70057\n",
            "Epoch 43/50\n",
            "1172/1172 [==============================] - 4s 3ms/step - loss: 1.6378 - acc: 0.4092 - val_loss: 1.6952 - val_acc: 0.3810\n",
            "\n",
            "Epoch 00043: val_loss improved from 1.70057 to 1.69515, saving model to ./model\n",
            "INFO:tensorflow:Assets written to: ./model/assets\n",
            "Epoch 44/50\n",
            "1172/1172 [==============================] - 4s 3ms/step - loss: 1.6339 - acc: 0.4117 - val_loss: 1.7021 - val_acc: 0.3822\n",
            "\n",
            "Epoch 00044: val_loss did not improve from 1.69515\n",
            "Epoch 45/50\n",
            "1172/1172 [==============================] - 4s 3ms/step - loss: 1.6249 - acc: 0.4104 - val_loss: 1.7076 - val_acc: 0.3824\n",
            "\n",
            "Epoch 00045: val_loss did not improve from 1.69515\n",
            "Epoch 46/50\n",
            "1172/1172 [==============================] - 4s 3ms/step - loss: 1.6336 - acc: 0.4103 - val_loss: 1.7166 - val_acc: 0.3754\n",
            "\n",
            "Epoch 00046: val_loss did not improve from 1.69515\n",
            "Epoch 47/50\n",
            "1172/1172 [==============================] - 4s 3ms/step - loss: 1.6352 - acc: 0.4074 - val_loss: 1.7169 - val_acc: 0.3821\n",
            "\n",
            "Epoch 00047: val_loss did not improve from 1.69515\n",
            "Epoch 48/50\n",
            "1172/1172 [==============================] - 4s 3ms/step - loss: 1.6332 - acc: 0.4076 - val_loss: 1.6999 - val_acc: 0.3854\n",
            "\n",
            "Epoch 00048: val_loss did not improve from 1.69515\n",
            "Epoch 49/50\n",
            "1172/1172 [==============================] - 4s 3ms/step - loss: 1.6360 - acc: 0.4084 - val_loss: 1.6900 - val_acc: 0.3854\n",
            "\n",
            "Epoch 00049: val_loss improved from 1.69515 to 1.69002, saving model to ./model\n",
            "INFO:tensorflow:Assets written to: ./model/assets\n",
            "Epoch 50/50\n",
            "1172/1172 [==============================] - 4s 3ms/step - loss: 1.6203 - acc: 0.4182 - val_loss: 1.7135 - val_acc: 0.3811\n",
            "\n",
            "Epoch 00050: val_loss did not improve from 1.69002\n"
          ],
          "name": "stdout"
        }
      ]
    },
    {
      "cell_type": "code",
      "metadata": {
        "colab": {
          "base_uri": "https://localhost:8080/",
          "height": 214
        },
        "id": "YXrHyGJnsqkD",
        "outputId": "8abb898b-ceb7-460c-8321-94b1fac487dc"
      },
      "source": [
        "# plot the loss history [train_loss, validation_loss] in a plot\r\n",
        "plt.plot(history.history[\"loss\"], label=\"train_loss\")\r\n",
        "plt.plot(history.history[\"val_loss\"], label=\"val_loss\")\r\n",
        "plt.legend()"
      ],
      "execution_count": 1,
      "outputs": [
        {
          "output_type": "error",
          "ename": "NameError",
          "evalue": "ignored",
          "traceback": [
            "\u001b[0;31m---------------------------------------------------------------------------\u001b[0m",
            "\u001b[0;31mNameError\u001b[0m                                 Traceback (most recent call last)",
            "\u001b[0;32m<ipython-input-1-d013857c4597>\u001b[0m in \u001b[0;36m<module>\u001b[0;34m()\u001b[0m\n\u001b[1;32m      1\u001b[0m \u001b[0;31m# plot the loss history [train_loss, validation_loss] in a plot\u001b[0m\u001b[0;34m\u001b[0m\u001b[0;34m\u001b[0m\u001b[0;34m\u001b[0m\u001b[0m\n\u001b[0;32m----> 2\u001b[0;31m \u001b[0mplt\u001b[0m\u001b[0;34m.\u001b[0m\u001b[0mplot\u001b[0m\u001b[0;34m(\u001b[0m\u001b[0mhistory\u001b[0m\u001b[0;34m.\u001b[0m\u001b[0mhistory\u001b[0m\u001b[0;34m[\u001b[0m\u001b[0;34m\"loss\"\u001b[0m\u001b[0;34m]\u001b[0m\u001b[0;34m,\u001b[0m \u001b[0mlabel\u001b[0m\u001b[0;34m=\u001b[0m\u001b[0;34m\"train_loss\"\u001b[0m\u001b[0;34m)\u001b[0m\u001b[0;34m\u001b[0m\u001b[0;34m\u001b[0m\u001b[0m\n\u001b[0m\u001b[1;32m      3\u001b[0m \u001b[0mplt\u001b[0m\u001b[0;34m.\u001b[0m\u001b[0mplot\u001b[0m\u001b[0;34m(\u001b[0m\u001b[0mhistory\u001b[0m\u001b[0;34m.\u001b[0m\u001b[0mhistory\u001b[0m\u001b[0;34m[\u001b[0m\u001b[0;34m\"val_loss\"\u001b[0m\u001b[0;34m]\u001b[0m\u001b[0;34m,\u001b[0m \u001b[0mlabel\u001b[0m\u001b[0;34m=\u001b[0m\u001b[0;34m\"val_loss\"\u001b[0m\u001b[0;34m)\u001b[0m\u001b[0;34m\u001b[0m\u001b[0;34m\u001b[0m\u001b[0m\n\u001b[1;32m      4\u001b[0m \u001b[0mplt\u001b[0m\u001b[0;34m.\u001b[0m\u001b[0mlegend\u001b[0m\u001b[0;34m(\u001b[0m\u001b[0;34m)\u001b[0m\u001b[0;34m\u001b[0m\u001b[0;34m\u001b[0m\u001b[0m\n",
            "\u001b[0;31mNameError\u001b[0m: name 'plt' is not defined"
          ]
        }
      ]
    },
    {
      "cell_type": "code",
      "metadata": {
        "id": "jP6WrDoIRc0e"
      },
      "source": [
        "#we can use keras tuner but me be will do it later \r\n",
        "\r\n",
        "'''def build_model(hp):\r\n",
        "    model = keras.Sequential()\r\n",
        "    for i in range(hp.Int('num_layers', 2, 20)):\r\n",
        "        model.add(layers.Dense(units=hp.Int('units_' + str(i),\r\n",
        "                                            min_value=32,\r\n",
        "                                            max_value=512,\r\n",
        "                                            step=32),\r\n",
        "                               activation='relu'))\r\n",
        "    model.add(layers.Dense(1, activation='linear'))\r\n",
        "    model.compile(\r\n",
        "        optimizer=keras.optimizers.Adam(\r\n",
        "            hp.Choice('learning_rate', [1e-2, 1e-3, 1e-4])),\r\n",
        "        loss='mean_absolute_error',\r\n",
        "        metrics=['mean_absolute_error'])\r\n",
        "    return model'''\r\n",
        "    "
      ],
      "execution_count": null,
      "outputs": []
    }
  ]
}