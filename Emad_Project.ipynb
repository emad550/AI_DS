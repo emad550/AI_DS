{
  "nbformat": 4,
  "nbformat_minor": 0,
  "metadata": {
    "colab": {
      "name": "Emad_Project.ipynb",
      "provenance": [],
      "collapsed_sections": [],
      "authorship_tag": "ABX9TyOfpHNpKOWuVjmDVCeu+D3m",
      "include_colab_link": true
    },
    "kernelspec": {
      "name": "python3",
      "display_name": "Python 3"
    }
  },
  "cells": [
    {
      "cell_type": "markdown",
      "metadata": {
        "id": "view-in-github",
        "colab_type": "text"
      },
      "source": [
        "<a href=\"https://colab.research.google.com/github/emad550/AI_DS/blob/main/Emad_Project.ipynb\" target=\"_parent\"><img src=\"https://colab.research.google.com/assets/colab-badge.svg\" alt=\"Open In Colab\"/></a>"
      ]
    },
    {
      "cell_type": "markdown",
      "metadata": {
        "id": "NzJ_z4eNZM7d"
      },
      "source": [
        "First we need to import some libraries "
      ]
    },
    {
      "cell_type": "code",
      "metadata": {
        "id": "9ooQJ-ixZUEZ"
      },
      "source": [
        "#Please open Use Google Colab\n",
        "import pandas as pd \n",
        "import numpy as np \n",
        "import matplotlib.pyplot as plt\n",
        "import seaborn as sns\n",
        "import plotly.express as px"
      ],
      "execution_count": 3,
      "outputs": []
    },
    {
      "cell_type": "markdown",
      "metadata": {
        "id": "eq5fc6fnaVvD"
      },
      "source": [
        "We need to extract data "
      ]
    },
    {
      "cell_type": "code",
      "metadata": {
        "id": "dnsPHlXhah5E",
        "outputId": "5cae1b5b-4464-4969-e7a2-531d0e814e1e",
        "colab": {
          "base_uri": "https://localhost:8080/"
        }
      },
      "source": [
        "from google.colab import drive\n",
        "drive.mount(\"/content/drive\")\n"
      ],
      "execution_count": 1,
      "outputs": [
        {
          "output_type": "stream",
          "text": [
            "Mounted at /content/drive\n"
          ],
          "name": "stdout"
        }
      ]
    },
    {
      "cell_type": "code",
      "metadata": {
        "id": "-8L-nV9pbflS",
        "outputId": "5df76216-84ad-4c46-a206-4a7fe3c44068",
        "colab": {
          "base_uri": "https://localhost:8080/",
          "height": 206
        }
      },
      "source": [
        "data=pd.read_excel(\"/content/drive/My Drive/50ulke.xlsx\")\n",
        "data.head()"
      ],
      "execution_count": 4,
      "outputs": [
        {
          "output_type": "execute_result",
          "data": {
            "text/html": [
              "<div>\n",
              "<style scoped>\n",
              "    .dataframe tbody tr th:only-of-type {\n",
              "        vertical-align: middle;\n",
              "    }\n",
              "\n",
              "    .dataframe tbody tr th {\n",
              "        vertical-align: top;\n",
              "    }\n",
              "\n",
              "    .dataframe thead th {\n",
              "        text-align: right;\n",
              "    }\n",
              "</style>\n",
              "<table border=\"1\" class=\"dataframe\">\n",
              "  <thead>\n",
              "    <tr style=\"text-align: right;\">\n",
              "      <th></th>\n",
              "      <th>Unnamed: 0</th>\n",
              "      <th>Countries</th>\n",
              "      <th>National Income</th>\n",
              "      <th>Growth</th>\n",
              "      <th>Per person</th>\n",
              "      <th>Continent</th>\n",
              "    </tr>\n",
              "  </thead>\n",
              "  <tbody>\n",
              "    <tr>\n",
              "      <th>0</th>\n",
              "      <td>0</td>\n",
              "      <td>United States</td>\n",
              "      <td>20412.87</td>\n",
              "      <td>2.27</td>\n",
              "      <td>62152</td>\n",
              "      <td>North America</td>\n",
              "    </tr>\n",
              "    <tr>\n",
              "      <th>1</th>\n",
              "      <td>1</td>\n",
              "      <td>China</td>\n",
              "      <td>14092.51</td>\n",
              "      <td>6.86</td>\n",
              "      <td>10088</td>\n",
              "      <td>Asia</td>\n",
              "    </tr>\n",
              "    <tr>\n",
              "      <th>2</th>\n",
              "      <td>2</td>\n",
              "      <td>Japan</td>\n",
              "      <td>5167.05</td>\n",
              "      <td>1.71</td>\n",
              "      <td>40849</td>\n",
              "      <td>Asia</td>\n",
              "    </tr>\n",
              "    <tr>\n",
              "      <th>3</th>\n",
              "      <td>3</td>\n",
              "      <td>Germany</td>\n",
              "      <td>4211.64</td>\n",
              "      <td>2.51</td>\n",
              "      <td>50842</td>\n",
              "      <td>Europe</td>\n",
              "    </tr>\n",
              "    <tr>\n",
              "      <th>4</th>\n",
              "      <td>4</td>\n",
              "      <td>United Kingdom</td>\n",
              "      <td>2936.29</td>\n",
              "      <td>1.79</td>\n",
              "      <td>44177</td>\n",
              "      <td>Europe</td>\n",
              "    </tr>\n",
              "  </tbody>\n",
              "</table>\n",
              "</div>"
            ],
            "text/plain": [
              "   Unnamed: 0       Countries  ...  Per person      Continent\n",
              "0           0   United States  ...       62152  North America\n",
              "1           1           China  ...       10088           Asia\n",
              "2           2           Japan  ...       40849           Asia\n",
              "3           3         Germany  ...       50842         Europe\n",
              "4           4  United Kingdom  ...       44177         Europe\n",
              "\n",
              "[5 rows x 6 columns]"
            ]
          },
          "metadata": {
            "tags": []
          },
          "execution_count": 4
        }
      ]
    },
    {
      "cell_type": "markdown",
      "metadata": {
        "id": "CH4yGfm_anLH"
      },
      "source": [
        "Then start exploratory data analysis"
      ]
    },
    {
      "cell_type": "code",
      "metadata": {
        "id": "nZbVdFg-a38g"
      },
      "source": [
        "data.info()\n",
        "#no null value \n",
        "data.groupby('Continent').sum()"
      ],
      "execution_count": null,
      "outputs": []
    },
    {
      "cell_type": "code",
      "metadata": {
        "id": "CWQ-kyNObFp0"
      },
      "source": [
        "data.describe()\n",
        "#Gab between min and max income very high"
      ],
      "execution_count": null,
      "outputs": []
    },
    {
      "cell_type": "code",
      "metadata": {
        "id": "D4VQqQOIbX7g"
      },
      "source": [
        "fig,ax=plt.subplots(1,2,sharey=True)\n",
        "data.plot(kind='scatter',x='Growth',y='National Income',ax=ax[0],figsize=(16,8))\n",
        "data.plot(kind='scatter',x='Per person',y='National Income',ax=ax[1])\n",
        "#Let us discover more relation"
      ],
      "execution_count": null,
      "outputs": []
    },
    {
      "cell_type": "code",
      "metadata": {
        "id": "AIE5i5NsdueZ"
      },
      "source": [
        "def bar(x,y):\n",
        "  fig=plt.figure(figsize=(16,12))\n",
        "  fig=px.bar(x=data[x],y=data[y],color=data[x])\n",
        "  fig.show()"
      ],
      "execution_count": null,
      "outputs": []
    },
    {
      "cell_type": "code",
      "metadata": {
        "id": "InhZv7woeaqB"
      },
      "source": [
        "bar('Countries','National Income')"
      ],
      "execution_count": null,
      "outputs": []
    },
    {
      "cell_type": "code",
      "metadata": {
        "id": "RwY7BmRNjbG2"
      },
      "source": [
        "bar('Continent','National Income')"
      ],
      "execution_count": null,
      "outputs": []
    },
    {
      "cell_type": "code",
      "metadata": {
        "id": "R5G6QsEWlOLK"
      },
      "source": [
        "px.box(data['Growth'],data['Continent'],color=data['Continent'],points='outliers')"
      ],
      "execution_count": null,
      "outputs": []
    },
    {
      "cell_type": "markdown",
      "metadata": {
        "id": "Cnm4VdO_rW1j"
      },
      "source": [
        "let us discover more relation between National Income and Per person"
      ]
    },
    {
      "cell_type": "code",
      "metadata": {
        "id": "uLF7tcE4rZjE"
      },
      "source": [
        "sns.jointplot(y='National Income',x='Per person',data=data,kind='scatter')\n",
        "#this draw as shown no useless "
      ],
      "execution_count": null,
      "outputs": []
    },
    {
      "cell_type": "code",
      "metadata": {
        "id": "YwZQKxECr937"
      },
      "source": [
        "sns.pairplot(data)\n",
        "# we can find here relation between Growth and Per Person "
      ],
      "execution_count": null,
      "outputs": []
    },
    {
      "cell_type": "code",
      "metadata": {
        "id": "HMXOpnB9sV2z"
      },
      "source": [
        "df = px.data.gapminder()\n",
        "fig = px.choropleth(data, locations=\"Countries\", locationmode=\"country names\",color='National Income',hover_data=['Countries','Continent','Growth','Per person']\n",
        "                     \n",
        "                    )\n",
        "fig.show()"
      ],
      "execution_count": null,
      "outputs": []
    },
    {
      "cell_type": "code",
      "metadata": {
        "id": "8dGuo21IWgMy"
      },
      "source": [
        "data.hist(color='r',bins=20,figsize=(16,12))"
      ],
      "execution_count": null,
      "outputs": []
    }
  ]
}