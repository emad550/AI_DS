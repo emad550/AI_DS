{
  "nbformat": 4,
  "nbformat_minor": 0,
  "metadata": {
    "colab": {
      "name": "Emad_Excercise_ANN.ipynb",
      "provenance": [],
      "collapsed_sections": [],
      "authorship_tag": "ABX9TyO4BmGafrDEgavnWMoLe8c4",
      "include_colab_link": true
    },
    "kernelspec": {
      "name": "python3",
      "display_name": "Python 3"
    }
  },
  "cells": [
    {
      "cell_type": "markdown",
      "metadata": {
        "id": "view-in-github",
        "colab_type": "text"
      },
      "source": [
        "<a href=\"https://colab.research.google.com/github/emad550/AI_DS/blob/main/Emad_Exercise_ANN.ipynb\" target=\"_parent\"><img src=\"https://colab.research.google.com/assets/colab-badge.svg\" alt=\"Open In Colab\"/></a>"
      ]
    },
    {
      "cell_type": "code",
      "metadata": {
        "id": "KCezVrHvEd8U"
      },
      "source": [
        "#import liberaries \r\n",
        "import numpy as np \r\n",
        "import pandas as pd\r\n",
        "import matplotlib.pyplot as plt\r\n",
        "import seaborn as sns\r\n",
        "from sklearn.model_selection import train_test_split\r\n",
        "from sklearn.preprocessing import StandardScaler\r\n",
        "from sklearn.metrics import r2_score\r\n",
        "\r\n",
        "from tensorflow.keras.models import Sequential\r\n",
        "from tensorflow.keras.layers import Dense, Dropout,Flatten\r\n",
        "from tensorflow.keras.optimizers import Adam\r\n",
        "from tensorflow.keras.callbacks import EarlyStopping, ReduceLROnPlateau, ModelCheckpoint\r\n",
        "from tensorflow.keras.utils import to_categorical\r\n",
        "from tensorflow.keras import datasets\r\n",
        "from tensorflow.keras import models\r\n",
        "\r\n",
        "%matplotlib inline\r\n",
        "sns.set(rc={'figure.figsize': [9, 9]}, font_scale=1.2)"
      ],
      "execution_count": 16,
      "outputs": []
    },
    {
      "cell_type": "code",
      "metadata": {
        "id": "y2cN9ua0O0H2"
      },
      "source": [
        "# load the dataset here\r\n",
        "(Xtrain, Ytrain), (Xtest, Ytest) = datasets.cifar10.load_data()"
      ],
      "execution_count": 2,
      "outputs": []
    },
    {
      "cell_type": "code",
      "metadata": {
        "colab": {
          "base_uri": "https://localhost:8080/",
          "height": 359
        },
        "id": "bn5MZcP4PLAX",
        "outputId": "2e4c3037-f3d1-47d2-d3fa-136d199de05b"
      },
      "source": [
        "# index a random batch of the images, targets array and plot it\r\n",
        "i = np.random.randint(0, 1000)\r\n",
        "\r\n",
        "plt.imshow(Xtrain[i], \"gray\")   \r\n",
        "# plt.grid(True)\r\n",
        "plt.title(Ytrain[i])"
      ],
      "execution_count": 3,
      "outputs": [
        {
          "output_type": "stream",
          "text": [
            "/usr/local/lib/python3.6/dist-packages/matplotlib/text.py:1165: FutureWarning: elementwise comparison failed; returning scalar instead, but in the future will perform elementwise comparison\n",
            "  if s != self._text:\n"
          ],
          "name": "stderr"
        },
        {
          "output_type": "execute_result",
          "data": {
            "text/plain": [
              "Text(0.5, 1.0, '[6]')"
            ]
          },
          "metadata": {
            "tags": []
          },
          "execution_count": 3
        },
        {
          "output_type": "display_data",
          "data": {
            "image/png": "[encoded data removed]",
            "text/plain": [
              "<Figure size 432x288 with 1 Axes>"
            ]
          },
          "metadata": {
            "tags": [],
            "needs_background": "light"
          }
        }
      ]
    },
    {
      "cell_type": "code",
      "metadata": {
        "colab": {
          "base_uri": "https://localhost:8080/"
        },
        "id": "gRJbxOqyPYNP",
        "outputId": "13d6d533-c20b-4086-c200-4e01ca3e768c"
      },
      "source": [
        "N_train_imgs = Xtrain.shape[0]\r\n",
        "N_test_imgs = Xtest.shape[0]\r\n",
        "\r\n",
        "\r\n",
        "Xtrain = Xtrain.reshape(N_train_imgs, -1)\r\n",
        "Xtrain = Xtrain / 255. \r\n",
        "Ytrain = to_categorical(Ytrain)\r\n",
        "\r\n",
        "Xtest = Xtest.reshape(N_test_imgs, -1)\r\n",
        "Xtest = Xtest / 255. \r\n",
        "Ytest = to_categorical(Ytest)\r\n",
        "\r\n",
        "\r\n",
        "print(\"Xtrain shape: \", Xtrain.shape, \"ytrain shape: \", Ytrain.shape)\r\n",
        "print(\"Xtest shape: \", Xtest.shape, \"Ytest shape: \", Ytest.shape)\r\n"
      ],
      "execution_count": 4,
      "outputs": [
        {
          "output_type": "stream",
          "text": [
            "Xtrain shape:  (50000, 3072) ytrain shape:  (50000, 10)\n",
            "Xtest shape:  (10000, 3072) Ytest shape:  (10000, 10)\n"
          ],
          "name": "stdout"
        }
      ]
    },
    {
      "cell_type": "code",
      "metadata": {
        "id": "s5PEeiF1Pofk"
      },
      "source": [
        "model = Sequential([\r\n",
        "    Dense(units=32, activation='relu', input_shape=[3072]),\r\n",
        "    #Dropout(0.2),\r\n",
        "    Dense(units=64, activation='relu'),\r\n",
        "    #Dropout(0.2),\r\n",
        "    #Dense(units=128, activation='relu'),\r\n",
        "    #Flatten(),\r\n",
        "\r\n",
        "    Dense(units=10, activation=\"softmax\")\r\n",
        "])\r\n",
        "\r\n",
        "\r\n",
        "\r\n",
        "\r\n"
      ],
      "execution_count": 5,
      "outputs": []
    },
    {
      "cell_type": "code",
      "metadata": {
        "colab": {
          "base_uri": "https://localhost:8080/"
        },
        "id": "w4bHh_ZKq0sI",
        "outputId": "53522f7b-6996-4402-bec8-4aec9d98379b"
      },
      "source": [
        "model.summary()"
      ],
      "execution_count": 6,
      "outputs": [
        {
          "output_type": "stream",
          "text": [
            "Model: \"sequential\"\n",
            "_________________________________________________________________\n",
            "Layer (type)                 Output Shape              Param #   \n",
            "=================================================================\n",
            "dense (Dense)                (None, 32)                98336     \n",
            "_________________________________________________________________\n",
            "dense_1 (Dense)              (None, 64)                2112      \n",
            "_________________________________________________________________\n",
            "dense_2 (Dense)              (None, 10)                650       \n",
            "=================================================================\n",
            "Total params: 101,098\n",
            "Trainable params: 101,098\n",
            "Non-trainable params: 0\n",
            "_________________________________________________________________\n"
          ],
          "name": "stdout"
        }
      ]
    },
    {
      "cell_type": "code",
      "metadata": {
        "id": "yAeviGQ4rZRj"
      },
      "source": [
        "# configure the loss and optimizer and the metrics for the training\r\n",
        "lrd = ReduceLROnPlateau(monitor = 'val_loss',\r\n",
        "                         patience = 10,\r\n",
        "                         verbose = 1,\r\n",
        "                         factor = 0.85,\r\n",
        "                         min_lr = 1e-6)\r\n",
        "\r\n",
        "mcp = ModelCheckpoint(\"./model\", verbose=1, save_best_only=True)\r\n",
        "\r\n",
        "es = EarlyStopping(verbose=1, patience=10)\r\n",
        "\r\n",
        "\r\n",
        "model.compile(loss='categorical_crossentropy', optimizer=Adam(learning_rate=0.001),metrics=[\"acc\"] )"
      ],
      "execution_count": 7,
      "outputs": []
    },
    {
      "cell_type": "code",
      "metadata": {
        "colab": {
          "base_uri": "https://localhost:8080/"
        },
        "id": "hWuObqHnrxWX",
        "outputId": "bf8d05d3-0e84-4cf3-8241-5e9dccda2a22"
      },
      "source": [
        "# feed the data and train the network\r\n",
        "history = model.fit(Xtrain, Ytrain, validation_split=0.25, batch_size=32, epochs=50,callbacks=[lrd, mcp, es])"
      ],
      "execution_count": 8,
      "outputs": [
        {
          "output_type": "stream",
          "text": [
            "Epoch 1/50\n",
            "1172/1172 [==============================] - 8s 6ms/step - loss: 2.0150 - acc: 0.2511 - val_loss: 1.8516 - val_acc: 0.3294\n",
            "\n",
            "Epoch 00001: val_loss improved from inf to 1.85159, saving model to ./model\n",
            "INFO:tensorflow:Assets written to: ./model/assets\n",
            "Epoch 2/50\n",
            "1172/1172 [==============================] - 4s 3ms/step - loss: 1.8493 - acc: 0.3206 - val_loss: 1.8636 - val_acc: 0.3240\n",
            "\n",
            "Epoch 00002: val_loss did not improve from 1.85159\n",
            "Epoch 3/50\n",
            "1172/1172 [==============================] - 4s 3ms/step - loss: 1.8120 - acc: 0.3429 - val_loss: 1.8308 - val_acc: 0.3410\n",
            "\n",
            "Epoch 00003: val_loss improved from 1.85159 to 1.83078, saving model to ./model\n",
            "INFO:tensorflow:Assets written to: ./model/assets\n",
            "Epoch 4/50\n",
            "1172/1172 [==============================] - 5s 4ms/step - loss: 1.7833 - acc: 0.3550 - val_loss: 1.8055 - val_acc: 0.3519\n",
            "\n",
            "Epoch 00004: val_loss improved from 1.83078 to 1.80554, saving model to ./model\n",
            "INFO:tensorflow:Assets written to: ./model/assets\n",
            "Epoch 5/50\n",
            "1172/1172 [==============================] - 5s 4ms/step - loss: 1.7801 - acc: 0.3554 - val_loss: 1.8009 - val_acc: 0.3458\n",
            "\n",
            "Epoch 00005: val_loss improved from 1.80554 to 1.80088, saving model to ./model\n",
            "INFO:tensorflow:Assets written to: ./model/assets\n",
            "Epoch 6/50\n",
            "1172/1172 [==============================] - 4s 4ms/step - loss: 1.7584 - acc: 0.3649 - val_loss: 1.8096 - val_acc: 0.3502\n",
            "\n",
            "Epoch 00006: val_loss did not improve from 1.80088\n",
            "Epoch 7/50\n",
            "1172/1172 [==============================] - 5s 4ms/step - loss: 1.7583 - acc: 0.3656 - val_loss: 1.8216 - val_acc: 0.3397\n",
            "\n",
            "Epoch 00007: val_loss did not improve from 1.80088\n",
            "Epoch 8/50\n",
            "1172/1172 [==============================] - 5s 4ms/step - loss: 1.7512 - acc: 0.3676 - val_loss: 1.7567 - val_acc: 0.3689\n",
            "\n",
            "Epoch 00008: val_loss improved from 1.80088 to 1.75665, saving model to ./model\n",
            "INFO:tensorflow:Assets written to: ./model/assets\n",
            "Epoch 9/50\n",
            "1172/1172 [==============================] - 5s 4ms/step - loss: 1.7274 - acc: 0.3778 - val_loss: 1.7654 - val_acc: 0.3653\n",
            "\n",
            "Epoch 00009: val_loss did not improve from 1.75665\n",
            "Epoch 10/50\n",
            "1172/1172 [==============================] - 5s 4ms/step - loss: 1.7233 - acc: 0.3772 - val_loss: 1.7366 - val_acc: 0.3783\n",
            "\n",
            "Epoch 00010: val_loss improved from 1.75665 to 1.73658, saving model to ./model\n",
            "INFO:tensorflow:Assets written to: ./model/assets\n",
            "Epoch 11/50\n",
            "1172/1172 [==============================] - 5s 4ms/step - loss: 1.7213 - acc: 0.3787 - val_loss: 1.7486 - val_acc: 0.3760\n",
            "\n",
            "Epoch 00011: val_loss did not improve from 1.73658\n",
            "Epoch 12/50\n",
            "1172/1172 [==============================] - 5s 4ms/step - loss: 1.7074 - acc: 0.3814 - val_loss: 1.7412 - val_acc: 0.3791\n",
            "\n",
            "Epoch 00012: val_loss did not improve from 1.73658\n",
            "Epoch 13/50\n",
            "1172/1172 [==============================] - 5s 4ms/step - loss: 1.6950 - acc: 0.3860 - val_loss: 1.7508 - val_acc: 0.3649\n",
            "\n",
            "Epoch 00013: val_loss did not improve from 1.73658\n",
            "Epoch 14/50\n",
            "1172/1172 [==============================] - 5s 4ms/step - loss: 1.6979 - acc: 0.3919 - val_loss: 1.7635 - val_acc: 0.3629\n",
            "\n",
            "Epoch 00014: val_loss did not improve from 1.73658\n",
            "Epoch 15/50\n",
            "1172/1172 [==============================] - 5s 4ms/step - loss: 1.6935 - acc: 0.3888 - val_loss: 1.7526 - val_acc: 0.3631\n",
            "\n",
            "Epoch 00015: val_loss did not improve from 1.73658\n",
            "Epoch 16/50\n",
            "1172/1172 [==============================] - 5s 4ms/step - loss: 1.6833 - acc: 0.3926 - val_loss: 1.7246 - val_acc: 0.3798\n",
            "\n",
            "Epoch 00016: val_loss improved from 1.73658 to 1.72456, saving model to ./model\n",
            "INFO:tensorflow:Assets written to: ./model/assets\n",
            "Epoch 17/50\n",
            "1172/1172 [==============================] - 5s 4ms/step - loss: 1.6789 - acc: 0.3915 - val_loss: 1.7517 - val_acc: 0.3718\n",
            "\n",
            "Epoch 00017: val_loss did not improve from 1.72456\n",
            "Epoch 18/50\n",
            "1172/1172 [==============================] - 5s 4ms/step - loss: 1.6826 - acc: 0.3956 - val_loss: 1.7106 - val_acc: 0.3820\n",
            "\n",
            "Epoch 00018: val_loss improved from 1.72456 to 1.71057, saving model to ./model\n",
            "INFO:tensorflow:Assets written to: ./model/assets\n",
            "Epoch 19/50\n",
            "1172/1172 [==============================] - 5s 4ms/step - loss: 1.6647 - acc: 0.4008 - val_loss: 1.7141 - val_acc: 0.3843\n",
            "\n",
            "Epoch 00019: val_loss did not improve from 1.71057\n",
            "Epoch 20/50\n",
            "1172/1172 [==============================] - 5s 4ms/step - loss: 1.6806 - acc: 0.3989 - val_loss: 1.7660 - val_acc: 0.3650\n",
            "\n",
            "Epoch 00020: val_loss did not improve from 1.71057\n",
            "Epoch 21/50\n",
            "1172/1172 [==============================] - 5s 4ms/step - loss: 1.6604 - acc: 0.4028 - val_loss: 1.7553 - val_acc: 0.3702\n",
            "\n",
            "Epoch 00021: val_loss did not improve from 1.71057\n",
            "Epoch 22/50\n",
            "1172/1172 [==============================] - 5s 4ms/step - loss: 1.6463 - acc: 0.4061 - val_loss: 1.7165 - val_acc: 0.3807\n",
            "\n",
            "Epoch 00022: val_loss did not improve from 1.71057\n",
            "Epoch 23/50\n",
            "1172/1172 [==============================] - 5s 4ms/step - loss: 1.6640 - acc: 0.3991 - val_loss: 1.7122 - val_acc: 0.3828\n",
            "\n",
            "Epoch 00023: val_loss did not improve from 1.71057\n",
            "Epoch 24/50\n",
            "1172/1172 [==============================] - 5s 4ms/step - loss: 1.6633 - acc: 0.3999 - val_loss: 1.7043 - val_acc: 0.3836\n",
            "\n",
            "Epoch 00024: val_loss improved from 1.71057 to 1.70432, saving model to ./model\n",
            "INFO:tensorflow:Assets written to: ./model/assets\n",
            "Epoch 25/50\n",
            "1172/1172 [==============================] - 5s 4ms/step - loss: 1.6609 - acc: 0.4017 - val_loss: 1.7148 - val_acc: 0.3832\n",
            "\n",
            "Epoch 00025: val_loss did not improve from 1.70432\n",
            "Epoch 26/50\n",
            "1172/1172 [==============================] - 5s 4ms/step - loss: 1.6456 - acc: 0.4014 - val_loss: 1.7256 - val_acc: 0.3819\n",
            "\n",
            "Epoch 00026: val_loss did not improve from 1.70432\n",
            "Epoch 27/50\n",
            "1172/1172 [==============================] - 5s 4ms/step - loss: 1.6549 - acc: 0.4041 - val_loss: 1.7373 - val_acc: 0.3772\n",
            "\n",
            "Epoch 00027: val_loss did not improve from 1.70432\n",
            "Epoch 28/50\n",
            "1172/1172 [==============================] - 5s 4ms/step - loss: 1.6484 - acc: 0.4056 - val_loss: 1.7356 - val_acc: 0.3798\n",
            "\n",
            "Epoch 00028: val_loss did not improve from 1.70432\n",
            "Epoch 29/50\n",
            "1172/1172 [==============================] - 6s 5ms/step - loss: 1.6517 - acc: 0.4071 - val_loss: 1.7206 - val_acc: 0.3835\n",
            "\n",
            "Epoch 00029: val_loss did not improve from 1.70432\n",
            "Epoch 30/50\n",
            "1172/1172 [==============================] - 5s 4ms/step - loss: 1.6438 - acc: 0.4039 - val_loss: 1.7151 - val_acc: 0.3841\n",
            "\n",
            "Epoch 00030: val_loss did not improve from 1.70432\n",
            "Epoch 31/50\n",
            "1172/1172 [==============================] - 5s 4ms/step - loss: 1.6457 - acc: 0.4119 - val_loss: 1.6965 - val_acc: 0.3892\n",
            "\n",
            "Epoch 00031: val_loss improved from 1.70432 to 1.69648, saving model to ./model\n",
            "INFO:tensorflow:Assets written to: ./model/assets\n",
            "Epoch 32/50\n",
            "1172/1172 [==============================] - 5s 4ms/step - loss: 1.6367 - acc: 0.4094 - val_loss: 1.7129 - val_acc: 0.3823\n",
            "\n",
            "Epoch 00032: val_loss did not improve from 1.69648\n",
            "Epoch 33/50\n",
            "1172/1172 [==============================] - 5s 4ms/step - loss: 1.6307 - acc: 0.4138 - val_loss: 1.7300 - val_acc: 0.3722\n",
            "\n",
            "Epoch 00033: val_loss did not improve from 1.69648\n",
            "Epoch 34/50\n",
            "1172/1172 [==============================] - 5s 4ms/step - loss: 1.6318 - acc: 0.4116 - val_loss: 1.7177 - val_acc: 0.3777\n",
            "\n",
            "Epoch 00034: val_loss did not improve from 1.69648\n",
            "Epoch 35/50\n",
            "1172/1172 [==============================] - 5s 4ms/step - loss: 1.6315 - acc: 0.4114 - val_loss: 1.6955 - val_acc: 0.3945\n",
            "\n",
            "Epoch 00035: val_loss improved from 1.69648 to 1.69546, saving model to ./model\n",
            "INFO:tensorflow:Assets written to: ./model/assets\n",
            "Epoch 36/50\n",
            "1172/1172 [==============================] - 5s 4ms/step - loss: 1.6414 - acc: 0.4086 - val_loss: 1.7069 - val_acc: 0.3893\n",
            "\n",
            "Epoch 00036: val_loss did not improve from 1.69546\n",
            "Epoch 37/50\n",
            "1172/1172 [==============================] - 5s 4ms/step - loss: 1.6329 - acc: 0.4071 - val_loss: 1.6967 - val_acc: 0.3862\n",
            "\n",
            "Epoch 00037: val_loss did not improve from 1.69546\n",
            "Epoch 38/50\n",
            "1172/1172 [==============================] - 5s 4ms/step - loss: 1.6410 - acc: 0.4081 - val_loss: 1.7288 - val_acc: 0.3797\n",
            "\n",
            "Epoch 00038: val_loss did not improve from 1.69546\n",
            "Epoch 39/50\n",
            "1172/1172 [==============================] - 5s 4ms/step - loss: 1.6277 - acc: 0.4156 - val_loss: 1.7417 - val_acc: 0.3790\n",
            "\n",
            "Epoch 00039: val_loss did not improve from 1.69546\n",
            "Epoch 40/50\n",
            "1172/1172 [==============================] - 5s 4ms/step - loss: 1.6301 - acc: 0.4133 - val_loss: 1.7253 - val_acc: 0.3763\n",
            "\n",
            "Epoch 00040: val_loss did not improve from 1.69546\n",
            "Epoch 41/50\n",
            "1172/1172 [==============================] - 5s 4ms/step - loss: 1.6254 - acc: 0.4117 - val_loss: 1.7308 - val_acc: 0.3793\n",
            "\n",
            "Epoch 00041: val_loss did not improve from 1.69546\n",
            "Epoch 42/50\n",
            "1172/1172 [==============================] - 5s 4ms/step - loss: 1.6222 - acc: 0.4153 - val_loss: 1.7107 - val_acc: 0.3819\n",
            "\n",
            "Epoch 00042: val_loss did not improve from 1.69546\n",
            "Epoch 43/50\n",
            "1172/1172 [==============================] - 5s 4ms/step - loss: 1.6270 - acc: 0.4158 - val_loss: 1.6937 - val_acc: 0.3928\n",
            "\n",
            "Epoch 00043: val_loss improved from 1.69546 to 1.69367, saving model to ./model\n",
            "INFO:tensorflow:Assets written to: ./model/assets\n",
            "Epoch 44/50\n",
            "1172/1172 [==============================] - 5s 4ms/step - loss: 1.6246 - acc: 0.4100 - val_loss: 1.7034 - val_acc: 0.3881\n",
            "\n",
            "Epoch 00044: val_loss did not improve from 1.69367\n",
            "Epoch 45/50\n",
            "1172/1172 [==============================] - 5s 4ms/step - loss: 1.6319 - acc: 0.4125 - val_loss: 1.7049 - val_acc: 0.3867\n",
            "\n",
            "Epoch 00045: val_loss did not improve from 1.69367\n",
            "Epoch 46/50\n",
            "1172/1172 [==============================] - 5s 4ms/step - loss: 1.6333 - acc: 0.4091 - val_loss: 1.6936 - val_acc: 0.3898\n",
            "\n",
            "Epoch 00046: val_loss improved from 1.69367 to 1.69358, saving model to ./model\n",
            "INFO:tensorflow:Assets written to: ./model/assets\n",
            "Epoch 47/50\n",
            "1172/1172 [==============================] - 5s 4ms/step - loss: 1.6219 - acc: 0.4142 - val_loss: 1.7111 - val_acc: 0.3860\n",
            "\n",
            "Epoch 00047: val_loss did not improve from 1.69358\n",
            "Epoch 48/50\n",
            "1172/1172 [==============================] - 5s 4ms/step - loss: 1.6219 - acc: 0.4153 - val_loss: 1.6908 - val_acc: 0.3972\n",
            "\n",
            "Epoch 00048: val_loss improved from 1.69358 to 1.69080, saving model to ./model\n",
            "INFO:tensorflow:Assets written to: ./model/assets\n",
            "Epoch 49/50\n",
            "1172/1172 [==============================] - 5s 4ms/step - loss: 1.6243 - acc: 0.4185 - val_loss: 1.6932 - val_acc: 0.3912\n",
            "\n",
            "Epoch 00049: val_loss did not improve from 1.69080\n",
            "Epoch 50/50\n",
            "1172/1172 [==============================] - 5s 4ms/step - loss: 1.6169 - acc: 0.4174 - val_loss: 1.7297 - val_acc: 0.3800\n",
            "\n",
            "Epoch 00050: val_loss did not improve from 1.69080\n"
          ],
          "name": "stdout"
        }
      ]
    },
    {
      "cell_type": "code",
      "metadata": {
        "colab": {
          "base_uri": "https://localhost:8080/",
          "height": 288
        },
        "id": "YXrHyGJnsqkD",
        "outputId": "6fc0730f-f048-4fcf-a63b-c3d1b00949ec"
      },
      "source": [
        "# plot the loss history [train_loss, validation_loss] in a plot\r\n",
        "plt.plot(history.history[\"loss\"], label=\"train_loss\")\r\n",
        "plt.plot(history.history[\"val_loss\"], label=\"val_loss\")\r\n",
        "plt.legend()"
      ],
      "execution_count": 9,
      "outputs": [
        {
          "output_type": "execute_result",
          "data": {
            "text/plain": [
              "<matplotlib.legend.Legend at 0x7f38a3ba4588>"
            ]
          },
          "metadata": {
            "tags": []
          },
          "execution_count": 9
        },
        {
          "output_type": "display_data",
          "data": {
            "image/png": "[encoded data removed]",
            "text/plain": [
              "<Figure size 432x288 with 1 Axes>"
            ]
          },
          "metadata": {
            "tags": [],
            "needs_background": "light"
          }
        }
      ]
    },
    {
      "cell_type": "code",
      "metadata": {
        "colab": {
          "base_uri": "https://localhost:8080/"
        },
        "id": "ogQ5rowUsPm2",
        "outputId": "0eaa9779-4d90-4f28-e797-8cf1b533272e"
      },
      "source": [
        "test_res = model.evaluate(Xtest, Ytest, batch_size=32)\r\n",
        "\r\n",
        "\r\n",
        "train_res = model.evaluate(Xtrain, Ytrain, batch_size=32)\r\n",
        "train_res, test_res"
      ],
      "execution_count": 11,
      "outputs": [
        {
          "output_type": "stream",
          "text": [
            "313/313 [==============================] - 1s 2ms/step - loss: 1.7107 - acc: 0.3824\n",
            "1563/1563 [==============================] - 3s 2ms/step - loss: 1.6588 - acc: 0.4018\n"
          ],
          "name": "stdout"
        },
        {
          "output_type": "execute_result",
          "data": {
            "text/plain": [
              "([1.6588356494903564, 0.40178000926971436],\n",
              " [1.7107244729995728, 0.3824000060558319])"
            ]
          },
          "metadata": {
            "tags": []
          },
          "execution_count": 11
        }
      ]
    },
    {
      "cell_type": "code",
      "metadata": {
        "colab": {
          "base_uri": "https://localhost:8080/",
          "height": 288
        },
        "id": "3-fc1M_Qs99Z",
        "outputId": "4baf00a5-24fb-4c21-8357-8f5a856975e2"
      },
      "source": [
        "# plot the accuracy history [train_acc, val_acc] in a plot in a separate plot\r\n",
        "plt.plot(history.history[\"acc\"], label=\"train_acc\")\r\n",
        "plt.plot(history.history[\"val_acc\"], label=\"val_acc\")\r\n",
        "plt.legend()"
      ],
      "execution_count": 12,
      "outputs": [
        {
          "output_type": "execute_result",
          "data": {
            "text/plain": [
              "<matplotlib.legend.Legend at 0x7f38a5d0fc88>"
            ]
          },
          "metadata": {
            "tags": []
          },
          "execution_count": 12
        },
        {
          "output_type": "display_data",
          "data": {
            "image/png": "[encoded data removed]",
            "text/plain": [
              "<Figure size 432x288 with 1 Axes>"
            ]
          },
          "metadata": {
            "tags": [],
            "needs_background": "light"
          }
        }
      ]
    },
    {
      "cell_type": "code",
      "metadata": {
        "colab": {
          "base_uri": "https://localhost:8080/"
        },
        "id": "NESuoxeqtXFd",
        "outputId": "052aa6bc-c2d1-4e6f-ffda-5c618f58c5f8"
      },
      "source": [
        "#save the model into tf file and the history to a csv file        \r\n",
        "models.save_model(\r\n",
        "    model,filepath='/content/model')\r\n",
        " "
      ],
      "execution_count": 21,
      "outputs": [
        {
          "output_type": "stream",
          "text": [
            "INFO:tensorflow:Assets written to: /content/model/assets\n"
          ],
          "name": "stdout"
        }
      ]
    },
    {
      "cell_type": "code",
      "metadata": {
        "colab": {
          "base_uri": "https://localhost:8080/"
        },
        "id": "47LrbvNOt066",
        "outputId": "de182088-63a9-4f4f-b464-f526a587a633"
      },
      "source": [
        "# print the accuracy, and loss scores on testing dataset\r\n",
        "train_res = model.evaluate(Xtrain, Ytrain)\r\n",
        "test_res = model.evaluate(Xtest, Ytest)\r\n",
        "\r\n",
        "print(\"-\"*50, \"\\n\")\r\n",
        "print(f\"train_loss: {train_res[0]:.3f}\", \"\\t\", f\"test_loss: {test_res[0]:.3f}\")\r\n",
        "print(f\"train_acc: {train_res[1]:.3f}\", \"\\t\", f\"test_acc: {test_res[1]:.3f}\")"
      ],
      "execution_count": 22,
      "outputs": [
        {
          "output_type": "stream",
          "text": [
            "1563/1563 [==============================] - 2s 2ms/step - loss: 1.6588 - acc: 0.4018\n",
            "313/313 [==============================] - 1s 2ms/step - loss: 1.7107 - acc: 0.3824\n",
            "-------------------------------------------------- \n",
            "\n",
            "train_loss: 1.659 \t test_loss: 1.711\n",
            "train_acc: 0.402 \t test_acc: 0.382\n"
          ],
          "name": "stdout"
        }
      ]
    },
    {
      "cell_type": "code",
      "metadata": {
        "id": "1-MBOdHM0DTT"
      },
      "source": [
        "model.save('CIFAR.h5')"
      ],
      "execution_count": 27,
      "outputs": []
    },
    {
      "cell_type": "code",
      "metadata": {
        "colab": {
          "base_uri": "https://localhost:8080/",
          "height": 577
        },
        "id": "XfZceynRuKIM",
        "outputId": "ff374702-81de-4c84-c667-16714e2c84b3"
      },
      "source": [
        "# create a Xtest_batch\r\n",
        "i = np.random.randint(0, 1000)\r\n",
        "\r\n",
        "X = Xtest[15]\r\n",
        "X = np.expand_dims(X, axis=0)\r\n",
        "Ypred = model.predict(X)\r\n",
        "X = X.reshape(32, 32,3)\r\n",
        "\r\n",
        "\r\n",
        "\r\n",
        "# predict the Ypred_batch\r\n",
        "\r\n",
        "Ypred = np.round(Ypred, 3)\r\n",
        "print(\"result: \", Ypred.argmax())\r\n",
        "\r\n",
        "# plot the predicted batch\r\n",
        "plt.imshow(X)"
      ],
      "execution_count": 26,
      "outputs": [
        {
          "output_type": "stream",
          "text": [
            "result:  8\n"
          ],
          "name": "stdout"
        },
        {
          "output_type": "execute_result",
          "data": {
            "text/plain": [
              "<matplotlib.image.AxesImage at 0x7f38a4c049b0>"
            ]
          },
          "metadata": {
            "tags": []
          },
          "execution_count": 26
        },
        {
          "output_type": "display_data",
          "data": {
            "image/png": "[encoded data removed]",
            "text/plain": [
              "<Figure size 648x648 with 1 Axes>"
            ]
          },
          "metadata": {
            "tags": []
          }
        }
      ]
    },
    {
      "cell_type": "code",
      "metadata": {
        "id": "mjCpny0J0elW"
      },
      "source": [
        "\r\n",
        "\r\n"
      ],
      "execution_count": 33,
      "outputs": []
    },
    {
      "cell_type": "code",
      "metadata": {
        "id": "M4XhQp4q2S9L"
      },
      "source": [
        "Xtest = Xtest.reshape(Xtest.shape[0], Xtest.shape[1], Xtest.shape[2])\r\n"
      ],
      "execution_count": null,
      "outputs": []
    },
    {
      "cell_type": "code",
      "metadata": {
        "id": "UdXkJhPH2FH_"
      },
      "source": [
        "Ytest = Ytest.astype(int)\r\n",
        "predictions = predictions.astype(int)"
      ],
      "execution_count": null,
      "outputs": []
    },
    {
      "cell_type": "code",
      "metadata": {
        "id": "jkk2MMRk2ZFo"
      },
      "source": [
        "fig, axes = plt.subplots(ncols=7, nrows=3, sharex=False,\r\n",
        "    sharey=True, figsize=(17, 8))\r\n",
        "index = 0\r\n",
        "for i in range(3):\r\n",
        "    for j in range(7):\r\n",
        "        axes[i,j].set_title('actual:' + labels[Ytest[index][0]] + '\\n' \r\n",
        "                            + 'predicted:' + labels[predictions[index][0]])\r\n",
        "        axes[i,j].imshow(Xtest[index], cmap='gray')\r\n",
        "        axes[i,j].get_xaxis().set_visible(False)\r\n",
        "        axes[i,j].get_yaxis().set_visible(False)\r\n",
        "        index += 1\r\n",
        "plt.show()"
      ],
      "execution_count": null,
      "outputs": []
    },
    {
      "cell_type": "code",
      "metadata": {
        "id": "jP6WrDoIRc0e"
      },
      "source": [
        "#we can use keras tuner but me be will do it later \r\n",
        "\r\n",
        "'''def build_model(hp):\r\n",
        "    model = keras.Sequential()\r\n",
        "    for i in range(hp.Int('num_layers', 2, 20)):\r\n",
        "        model.add(layers.Dense(units=hp.Int('units_' + str(i),\r\n",
        "                                            min_value=32,\r\n",
        "                                            max_value=512,\r\n",
        "                                            step=32),\r\n",
        "                               activation='relu'))\r\n",
        "    model.add(layers.Dense(1, activation='linear'))\r\n",
        "    model.compile(\r\n",
        "        optimizer=keras.optimizers.Adam(\r\n",
        "            hp.Choice('learning_rate', [1e-2, 1e-3, 1e-4])),\r\n",
        "        loss='mean_absolute_error',\r\n",
        "        metrics=['mean_absolute_error'])\r\n",
        "    return model'''\r\n",
        "    "
      ],
      "execution_count": null,
      "outputs": []
    }
  ]
}